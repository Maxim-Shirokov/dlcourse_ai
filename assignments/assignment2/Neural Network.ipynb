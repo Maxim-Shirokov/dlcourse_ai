{
 "cells": [
  {
   "cell_type": "markdown",
   "metadata": {},
   "source": [
    "# Задание 2.1 - Нейронные сети\n",
    "\n",
    "В этом задании вы реализуете и натренируете настоящую нейроную сеть своими руками!\n",
    "\n",
    "В некотором смысле это будет расширением прошлого задания - нам нужно просто составить несколько линейных классификаторов вместе!\n",
    "\n",
    "<img src=\"https://i.redd.it/n9fgba8b0qr01.png\" alt=\"Stack_more_layers\" width=\"400px\"/>"
   ]
  },
  {
   "cell_type": "code",
   "execution_count": 1,
   "metadata": {},
   "outputs": [],
   "source": [
    "import numpy as np\n",
    "import matplotlib.pyplot as plt\n",
    "\n",
    "%matplotlib inline\n",
    "\n",
    "%load_ext autoreload\n",
    "%autoreload 2"
   ]
  },
  {
   "cell_type": "code",
   "execution_count": 2,
   "metadata": {
    "scrolled": true
   },
   "outputs": [],
   "source": [
    "from dataset import load_svhn, random_split_train_val\n",
    "from gradient_check import check_layer_gradient, check_layer_param_gradient, check_model_gradient\n",
    "from layers import FullyConnectedLayer, ReLULayer\n",
    "from model import TwoLayerNet\n",
    "from trainer import Trainer, Dataset\n",
    "from optim import SGD, MomentumSGD\n",
    "from metrics import multiclass_accuracy"
   ]
  },
  {
   "cell_type": "markdown",
   "metadata": {},
   "source": [
    "# Загружаем данные\n",
    "\n",
    "И разделяем их на training и validation."
   ]
  },
  {
   "cell_type": "code",
   "execution_count": 3,
   "metadata": {
    "scrolled": true
   },
   "outputs": [],
   "source": [
    "def prepare_for_neural_network(train_X, test_X):\n",
    "    train_flat = train_X.reshape(train_X.shape[0], -1).astype(np.float) / 255.0\n",
    "    test_flat = test_X.reshape(test_X.shape[0], -1).astype(np.float) / 255.0\n",
    "    \n",
    "    # Subtract mean\n",
    "    mean_image = np.mean(train_flat, axis = 0)\n",
    "    train_flat -= mean_image\n",
    "    test_flat -= mean_image\n",
    "    \n",
    "    return train_flat, test_flat\n",
    "    \n",
    "train_X, train_y, test_X, test_y = load_svhn(\"data\", max_train=10000, max_test=1000)    \n",
    "train_X, test_X = prepare_for_neural_network(train_X, test_X)\n",
    "# Split train into train and val\n",
    "train_X, train_y, val_X, val_y = random_split_train_val(train_X, train_y, num_val = 1000)"
   ]
  },
  {
   "cell_type": "markdown",
   "metadata": {},
   "source": [
    "# Как всегда, начинаем с кирпичиков\n",
    "\n",
    "Мы будем реализовывать необходимые нам слои по очереди. Каждый слой должен реализовать:\n",
    "- прямой проход (forward pass), который генерирует выход слоя по входу и запоминает необходимые данные\n",
    "- обратный проход (backward pass), который получает градиент по выходу слоя и вычисляет градиент по входу и по параметрам\n",
    "\n",
    "Начнем с ReLU, у которого параметров нет."
   ]
  },
  {
   "cell_type": "code",
   "execution_count": 4,
   "metadata": {
    "scrolled": true
   },
   "outputs": [
    {
     "name": "stdout",
     "output_type": "stream",
     "text": [
      "Gradient check passed!\n"
     ]
    }
   ],
   "source": [
    "# TODO: Implement ReLULayer layer in layers.py\n",
    "# Note: you'll need to copy implementation of the gradient_check function from the previous assignment\n",
    "\n",
    "X = np.array([[1,-2,3],\n",
    "              [-1, 2, 0.1]\n",
    "              ])\n",
    "\n",
    "assert check_layer_gradient(ReLULayer(), X)"
   ]
  },
  {
   "cell_type": "markdown",
   "metadata": {},
   "source": [
    "А теперь реализуем полносвязный слой (fully connected layer), у которого будет два массива параметров: W (weights) и B (bias).\n",
    "\n",
    "Все параметры наши слои будут использовать для параметров специальный класс `Param`, в котором будут храниться значения параметров и градиенты этих параметров, вычисляемые во время обратного прохода.\n",
    "\n",
    "Это даст возможность аккумулировать (суммировать) градиенты из разных частей функции потерь, например, из cross-entropy loss и regularization loss."
   ]
  },
  {
   "cell_type": "code",
   "execution_count": 5,
   "metadata": {
    "scrolled": true
   },
   "outputs": [
    {
     "name": "stdout",
     "output_type": "stream",
     "text": [
      "Gradient check passed!\n",
      "Gradient check passed!\n",
      "Gradient check passed!\n"
     ]
    }
   ],
   "source": [
    "# TODO: Implement FullyConnected layer forward and backward methods\n",
    "assert check_layer_gradient(FullyConnectedLayer(3, 4), X)\n",
    "# TODO: Implement storing gradients for W and B\n",
    "assert check_layer_param_gradient(FullyConnectedLayer(3, 4), X, 'W')\n",
    "assert check_layer_param_gradient(FullyConnectedLayer(3, 4), X, 'B')"
   ]
  },
  {
   "cell_type": "markdown",
   "metadata": {},
   "source": [
    "## Создаем нейронную сеть\n",
    "\n",
    "Теперь мы реализуем простейшую нейронную сеть с двумя полносвязным слоями и нелинейностью ReLU. Реализуйте функцию `compute_loss_and_gradients`, она должна запустить прямой и обратный проход через оба слоя для вычисления градиентов.\n",
    "\n",
    "Не забудьте реализовать очистку градиентов в начале функции."
   ]
  },
  {
   "cell_type": "code",
   "execution_count": 6,
   "metadata": {
    "scrolled": false
   },
   "outputs": [
    {
     "name": "stdout",
     "output_type": "stream",
     "text": [
      "Checking gradient for W_first_layer\n",
      "Gradient check passed!\n",
      "Checking gradient for B_first_layer\n",
      "Gradient check passed!\n",
      "Checking gradient for W_second_layer\n",
      "Gradient check passed!\n",
      "Checking gradient for B_second_layer\n",
      "Gradient check passed!\n"
     ]
    },
    {
     "data": {
      "text/plain": [
       "True"
      ]
     },
     "execution_count": 6,
     "metadata": {},
     "output_type": "execute_result"
    }
   ],
   "source": [
    "# TODO: In model.py, implement compute_loss_and_gradients function\n",
    "model = TwoLayerNet(n_input = train_X.shape[1], n_output = 10, hidden_layer_size = 3, reg = 0)\n",
    "loss = model.compute_loss_and_gradients(train_X[:2], train_y[:2])\n",
    "\n",
    "# TODO Now implement backward pass and aggregate all of the params\n",
    "check_model_gradient(model, train_X[:2], train_y[:2])"
   ]
  },
  {
   "cell_type": "markdown",
   "metadata": {},
   "source": [
    "Теперь добавьте к модели регуляризацию - она должна прибавляться к loss и делать свой вклад в градиенты."
   ]
  },
  {
   "cell_type": "code",
   "execution_count": 7,
   "metadata": {
    "scrolled": true
   },
   "outputs": [
    {
     "name": "stdout",
     "output_type": "stream",
     "text": [
      "Checking gradient for W_first_layer\n",
      "Gradient check passed!\n",
      "Checking gradient for B_first_layer\n",
      "Gradient check passed!\n",
      "Checking gradient for W_second_layer\n",
      "Gradient check passed!\n",
      "Checking gradient for B_second_layer\n",
      "Gradient check passed!\n"
     ]
    },
    {
     "data": {
      "text/plain": [
       "True"
      ]
     },
     "execution_count": 7,
     "metadata": {},
     "output_type": "execute_result"
    }
   ],
   "source": [
    "# TODO Now implement l2 regularization in the forward and backward pass\n",
    "model_with_reg = TwoLayerNet(n_input = train_X.shape[1], n_output = 10, hidden_layer_size = 3, reg = 1e1)\n",
    "loss_with_reg = model_with_reg.compute_loss_and_gradients(train_X[:2], train_y[:2])\n",
    "assert loss_with_reg > loss and not np.isclose(loss_with_reg, loss), \\\n",
    "    \"Loss with regularization (%2.4f) should be higher than without it (%2.4f)!\" % (loss, loss_with_reg)\n",
    "\n",
    "check_model_gradient(model_with_reg, train_X[:2], train_y[:2])"
   ]
  },
  {
   "cell_type": "markdown",
   "metadata": {},
   "source": [
    "Также реализуем функцию предсказания (вычисления значения) модели на новых данных.\n",
    "\n",
    "Какое значение точности мы ожидаем увидеть до начала тренировки?"
   ]
  },
  {
   "cell_type": "code",
   "execution_count": 8,
   "metadata": {
    "scrolled": true
   },
   "outputs": [
    {
     "data": {
      "text/plain": [
       "0.1"
      ]
     },
     "execution_count": 8,
     "metadata": {},
     "output_type": "execute_result"
    }
   ],
   "source": [
    "# Finally, implement predict function!\n",
    "\n",
    "# TODO: Implement predict function\n",
    "# What would be the value we expect?\n",
    "multiclass_accuracy(model_with_reg.predict(train_X[:30]), train_y[:30]) "
   ]
  },
  {
   "cell_type": "markdown",
   "metadata": {},
   "source": [
    "# Допишем код для процесса тренировки\n",
    "\n",
    "Если все реализовано корректно, значение функции ошибки должно уменьшаться с каждой эпохой, пусть и медленно. Не беспокойтесь пока про validation accuracy."
   ]
  },
  {
   "cell_type": "code",
   "execution_count": 94,
   "metadata": {
    "scrolled": false
   },
   "outputs": [
    {
     "name": "stdout",
     "output_type": "stream",
     "text": [
      "Loss: 4.875015, Train accuracy: 0.076889, val accuracy: 0.075000\n",
      "Loss: 4.451291, Train accuracy: 0.076778, val accuracy: 0.076000\n",
      "Loss: 4.097287, Train accuracy: 0.078222, val accuracy: 0.079000\n",
      "Loss: 3.801309, Train accuracy: 0.112667, val accuracy: 0.143000\n",
      "Loss: 3.554734, Train accuracy: 0.114333, val accuracy: 0.147000\n",
      "Loss: 3.348398, Train accuracy: 0.196667, val accuracy: 0.206000\n",
      "Loss: 3.175866, Train accuracy: 0.196667, val accuracy: 0.206000\n",
      "Loss: 3.031931, Train accuracy: 0.196667, val accuracy: 0.206000\n",
      "Loss: 2.912115, Train accuracy: 0.196667, val accuracy: 0.206000\n",
      "Loss: 2.811336, Train accuracy: 0.196667, val accuracy: 0.206000\n",
      "Loss: 2.727520, Train accuracy: 0.196667, val accuracy: 0.206000\n",
      "Loss: 2.657282, Train accuracy: 0.196667, val accuracy: 0.206000\n",
      "Loss: 2.598977, Train accuracy: 0.196667, val accuracy: 0.206000\n",
      "Loss: 2.550470, Train accuracy: 0.196667, val accuracy: 0.206000\n",
      "Loss: 2.508794, Train accuracy: 0.196667, val accuracy: 0.206000\n",
      "Loss: 2.475344, Train accuracy: 0.196667, val accuracy: 0.206000\n",
      "Loss: 2.447046, Train accuracy: 0.196667, val accuracy: 0.206000\n",
      "Loss: 2.422211, Train accuracy: 0.196667, val accuracy: 0.206000\n",
      "Loss: 2.403603, Train accuracy: 0.196667, val accuracy: 0.206000\n",
      "Loss: 2.386222, Train accuracy: 0.196667, val accuracy: 0.206000\n"
     ]
    }
   ],
   "source": [
    "model = TwoLayerNet(n_input = train_X.shape[1], n_output = 10, hidden_layer_size = 100, reg = 1e1)\n",
    "dataset = Dataset(train_X, train_y, val_X, val_y)\n",
    "trainer = Trainer(model, dataset, SGD(), learning_rate = 1e-5)\n",
    "\n",
    "# TODO Implement missing pieces in Trainer.fit function\n",
    "# You should expect loss to go down every epoch, even if it's slow\n",
    "loss_history, train_history, val_history = trainer.fit()"
   ]
  },
  {
   "cell_type": "code",
   "execution_count": 95,
   "metadata": {
    "scrolled": false
   },
   "outputs": [
    {
     "data": {
      "text/plain": [
       "[<matplotlib.lines.Line2D at 0x11ceac950>]"
      ]
     },
     "execution_count": 95,
     "metadata": {},
     "output_type": "execute_result"
    },
    {
     "data": {
      "image/png": "[encoded data removed]",
      "text/plain": [
       "<Figure size 432x288 with 1 Axes>"
      ]
     },
     "metadata": {
      "needs_background": "light"
     },
     "output_type": "display_data"
    }
   ],
   "source": [
    "#plt.plot(train_history)\n",
    "#plt.plot(val_history)\n",
    "plt.plot(loss_history)"
   ]
  },
  {
   "cell_type": "markdown",
   "metadata": {},
   "source": [
    "#### Улучшаем процесс тренировки\n",
    "\n",
    "Мы реализуем несколько ключевых оптимизаций, необходимых для тренировки современных нейросетей."
   ]
  },
  {
   "cell_type": "markdown",
   "metadata": {},
   "source": [
    "## Уменьшение скорости обучения (learning rate decay)\n",
    "\n",
    "Одна из необходимых оптимизаций во время тренировки нейронных сетей - постепенное уменьшение скорости обучения по мере тренировки.\n",
    "\n",
    "Один из стандартных методов - уменьшение скорости обучения (learning rate) каждые N эпох на коэффициент d (часто называемый decay). Значения N и d, как всегда, являются гиперпараметрами и должны подбираться на основе эффективности на проверочных данных (validation data). \n",
    "\n",
    "В нашем случае N будет равным 1."
   ]
  },
  {
   "cell_type": "code",
   "execution_count": 96,
   "metadata": {},
   "outputs": [
    {
     "name": "stdout",
     "output_type": "stream",
     "text": [
      "Loss: 2.295660, Train accuracy: 0.196667, val accuracy: 0.206000\n",
      "Loss: 2.257312, Train accuracy: 0.196667, val accuracy: 0.206000\n",
      "Loss: 2.299489, Train accuracy: 0.196667, val accuracy: 0.206000\n",
      "Loss: 2.303649, Train accuracy: 0.196667, val accuracy: 0.206000\n",
      "Loss: 2.296481, Train accuracy: 0.196667, val accuracy: 0.206000\n",
      "Loss: 2.319932, Train accuracy: 0.196667, val accuracy: 0.206000\n",
      "Loss: 2.274972, Train accuracy: 0.196667, val accuracy: 0.206000\n",
      "Loss: 2.286624, Train accuracy: 0.196667, val accuracy: 0.206000\n",
      "Loss: 2.216204, Train accuracy: 0.196667, val accuracy: 0.206000\n",
      "Loss: 2.317876, Train accuracy: 0.196667, val accuracy: 0.206000\n",
      "Loss: 2.276993, Train accuracy: 0.196667, val accuracy: 0.206000\n",
      "Loss: 2.342761, Train accuracy: 0.196667, val accuracy: 0.206000\n",
      "Loss: 2.230651, Train accuracy: 0.196667, val accuracy: 0.206000\n",
      "Loss: 2.238978, Train accuracy: 0.196667, val accuracy: 0.206000\n",
      "Loss: 2.249835, Train accuracy: 0.196667, val accuracy: 0.206000\n",
      "Loss: 2.185063, Train accuracy: 0.196667, val accuracy: 0.206000\n",
      "Loss: 2.307020, Train accuracy: 0.196667, val accuracy: 0.206000\n",
      "Loss: 2.283343, Train accuracy: 0.196667, val accuracy: 0.206000\n",
      "Loss: 2.231749, Train accuracy: 0.196667, val accuracy: 0.206000\n",
      "Loss: 2.341751, Train accuracy: 0.196667, val accuracy: 0.206000\n",
      "0.008179069375972308 0.01\n"
     ]
    }
   ],
   "source": [
    "# TODO Implement learning rate decay inside Trainer.fit method\n",
    "# Decay should happen once per epoch\n",
    "\n",
    "model = TwoLayerNet(n_input = train_X.shape[1], n_output = 10, hidden_layer_size = 100, reg = 1e-1)\n",
    "dataset = Dataset(train_X, train_y, val_X, val_y)\n",
    "trainer = Trainer(model, dataset, SGD(), learning_rate_decay=0.99)\n",
    "\n",
    "initial_learning_rate = trainer.learning_rate\n",
    "loss_history, train_history, val_history = trainer.fit()\n",
    "\n",
    "print(trainer.learning_rate, initial_learning_rate)\n",
    "assert trainer.learning_rate < initial_learning_rate, \"Learning rate should've been reduced\"\n",
    "assert trainer.learning_rate > 0.5*initial_learning_rate, \"Learning rate shouldn'tve been reduced that much!\""
   ]
  },
  {
   "cell_type": "markdown",
   "metadata": {},
   "source": [
    "# Накопление импульса (Momentum SGD)\n",
    "\n",
    "Другой большой класс оптимизаций - использование более эффективных методов градиентного спуска. Мы реализуем один из них - накопление импульса (Momentum SGD).\n",
    "\n",
    "Этот метод хранит скорость движения, использует градиент для ее изменения на каждом шаге, и изменяет веса пропорционально значению скорости.\n",
    "(Физическая аналогия: Вместо скорости градиенты теперь будут задавать ускорение, но будет присутствовать сила трения.)\n",
    "\n",
    "```\n",
    "velocity = momentum * velocity - learning_rate * gradient \n",
    "w = w + velocity\n",
    "```\n",
    "\n",
    "`momentum` здесь коэффициент затухания, который тоже является гиперпараметром (к счастью, для него часто есть хорошее значение по умолчанию, типичный диапазон -- 0.8-0.99).\n",
    "\n",
    "Несколько полезных ссылок, где метод разбирается более подробно:  \n",
    "http://cs231n.github.io/neural-networks-3/#sgd  \n",
    "https://distill.pub/2017/momentum/"
   ]
  },
  {
   "cell_type": "code",
   "execution_count": 97,
   "metadata": {
    "scrolled": true
   },
   "outputs": [
    {
     "name": "stdout",
     "output_type": "stream",
     "text": [
      "Loss: 2.332503, Train accuracy: 0.196667, val accuracy: 0.206000\n",
      "Loss: 2.331820, Train accuracy: 0.196667, val accuracy: 0.206000\n",
      "Loss: 2.327852, Train accuracy: 0.196667, val accuracy: 0.206000\n",
      "Loss: 2.328818, Train accuracy: 0.196667, val accuracy: 0.206000\n",
      "Loss: 2.330794, Train accuracy: 0.196667, val accuracy: 0.206000\n",
      "Loss: 2.326123, Train accuracy: 0.196667, val accuracy: 0.206000\n",
      "Loss: 2.327959, Train accuracy: 0.196667, val accuracy: 0.206000\n",
      "Loss: 2.329503, Train accuracy: 0.196667, val accuracy: 0.206000\n",
      "Loss: 2.331725, Train accuracy: 0.196667, val accuracy: 0.206000\n",
      "Loss: 2.320078, Train accuracy: 0.196667, val accuracy: 0.206000\n",
      "Loss: 2.319073, Train accuracy: 0.196667, val accuracy: 0.206000\n",
      "Loss: 2.324255, Train accuracy: 0.196667, val accuracy: 0.206000\n",
      "Loss: 2.322029, Train accuracy: 0.196667, val accuracy: 0.206000\n",
      "Loss: 2.328363, Train accuracy: 0.196667, val accuracy: 0.206000\n",
      "Loss: 2.315114, Train accuracy: 0.196667, val accuracy: 0.206000\n",
      "Loss: 2.321096, Train accuracy: 0.196667, val accuracy: 0.206000\n",
      "Loss: 2.308415, Train accuracy: 0.196667, val accuracy: 0.206000\n",
      "Loss: 2.325030, Train accuracy: 0.196667, val accuracy: 0.206000\n",
      "Loss: 2.302638, Train accuracy: 0.196667, val accuracy: 0.206000\n",
      "Loss: 2.312884, Train accuracy: 0.196667, val accuracy: 0.206000\n"
     ]
    }
   ],
   "source": [
    "# TODO: Implement MomentumSGD.update function in optim.py\n",
    "\n",
    "model = TwoLayerNet(n_input = train_X.shape[1], n_output = 10, hidden_layer_size = 100, reg = 1e-1)\n",
    "dataset = Dataset(train_X, train_y, val_X, val_y)\n",
    "trainer = Trainer(model, dataset, MomentumSGD(), learning_rate=1e-5, learning_rate_decay=0.99)\n",
    "\n",
    "# You should see even better results than before!\n",
    "loss_history, train_history, val_history = trainer.fit()"
   ]
  },
  {
   "cell_type": "markdown",
   "metadata": {},
   "source": [
    "# Ну что, давайте уже тренировать сеть!"
   ]
  },
  {
   "cell_type": "markdown",
   "metadata": {},
   "source": [
    "## Последний тест - переобучимся (overfit) на маленьком наборе данных\n",
    "\n",
    "Хороший способ проверить, все ли реализовано корректно - переобучить сеть на маленьком наборе данных.  \n",
    "Наша модель обладает достаточной мощностью, чтобы приблизить маленький набор данных идеально, поэтому мы ожидаем, что на нем мы быстро дойдем до 100% точности на тренировочном наборе. \n",
    "\n",
    "Если этого не происходит, то где-то была допущена ошибка!"
   ]
  },
  {
   "cell_type": "code",
   "execution_count": 98,
   "metadata": {},
   "outputs": [
    {
     "name": "stdout",
     "output_type": "stream",
     "text": [
      "Loss: 2.335448, Train accuracy: 0.200000, val accuracy: 0.066667\n",
      "Loss: 2.320356, Train accuracy: 0.200000, val accuracy: 0.066667\n",
      "Loss: 2.303789, Train accuracy: 0.333333, val accuracy: 0.066667\n",
      "Loss: 2.302678, Train accuracy: 0.333333, val accuracy: 0.066667\n",
      "Loss: 2.321785, Train accuracy: 0.266667, val accuracy: 0.000000\n",
      "Loss: 2.218482, Train accuracy: 0.266667, val accuracy: 0.000000\n",
      "Loss: 2.296291, Train accuracy: 0.266667, val accuracy: 0.000000\n",
      "Loss: 2.247597, Train accuracy: 0.266667, val accuracy: 0.000000\n",
      "Loss: 2.266147, Train accuracy: 0.400000, val accuracy: 0.000000\n",
      "Loss: 2.309317, Train accuracy: 0.400000, val accuracy: 0.000000\n",
      "Loss: 2.029823, Train accuracy: 0.400000, val accuracy: 0.000000\n",
      "Loss: 1.747431, Train accuracy: 0.400000, val accuracy: 0.000000\n",
      "Loss: 1.667317, Train accuracy: 0.333333, val accuracy: 0.000000\n",
      "Loss: 2.087432, Train accuracy: 0.333333, val accuracy: 0.000000\n",
      "Loss: 1.537044, Train accuracy: 0.333333, val accuracy: 0.000000\n",
      "Loss: 1.911189, Train accuracy: 0.333333, val accuracy: 0.000000\n",
      "Loss: 2.405335, Train accuracy: 0.333333, val accuracy: 0.000000\n",
      "Loss: 1.830750, Train accuracy: 0.400000, val accuracy: 0.000000\n",
      "Loss: 1.551309, Train accuracy: 0.400000, val accuracy: 0.000000\n",
      "Loss: 2.460627, Train accuracy: 0.466667, val accuracy: 0.000000\n",
      "Loss: 1.744445, Train accuracy: 0.400000, val accuracy: 0.000000\n",
      "Loss: 1.594022, Train accuracy: 0.400000, val accuracy: 0.000000\n",
      "Loss: 1.316177, Train accuracy: 0.400000, val accuracy: 0.000000\n",
      "Loss: 1.810244, Train accuracy: 0.466667, val accuracy: 0.066667\n",
      "Loss: 1.977734, Train accuracy: 0.400000, val accuracy: 0.066667\n",
      "Loss: 1.719449, Train accuracy: 0.466667, val accuracy: 0.000000\n",
      "Loss: 1.825112, Train accuracy: 0.466667, val accuracy: 0.066667\n",
      "Loss: 1.768001, Train accuracy: 0.466667, val accuracy: 0.066667\n",
      "Loss: 1.463877, Train accuracy: 0.466667, val accuracy: 0.000000\n",
      "Loss: 1.566363, Train accuracy: 0.466667, val accuracy: 0.066667\n",
      "Loss: 1.757395, Train accuracy: 0.466667, val accuracy: 0.000000\n",
      "Loss: 1.671585, Train accuracy: 0.600000, val accuracy: 0.000000\n",
      "Loss: 2.037286, Train accuracy: 0.600000, val accuracy: 0.066667\n",
      "Loss: 1.405388, Train accuracy: 0.533333, val accuracy: 0.066667\n",
      "Loss: 1.918199, Train accuracy: 0.666667, val accuracy: 0.066667\n",
      "Loss: 1.434578, Train accuracy: 0.666667, val accuracy: 0.066667\n",
      "Loss: 2.013930, Train accuracy: 0.666667, val accuracy: 0.066667\n",
      "Loss: 1.706153, Train accuracy: 0.666667, val accuracy: 0.000000\n",
      "Loss: 1.997302, Train accuracy: 0.666667, val accuracy: 0.066667\n",
      "Loss: 1.622680, Train accuracy: 0.666667, val accuracy: 0.066667\n",
      "Loss: 1.952843, Train accuracy: 0.666667, val accuracy: 0.000000\n",
      "Loss: 1.274940, Train accuracy: 0.666667, val accuracy: 0.000000\n",
      "Loss: 1.563581, Train accuracy: 0.666667, val accuracy: 0.066667\n",
      "Loss: 1.449928, Train accuracy: 0.600000, val accuracy: 0.066667\n",
      "Loss: 1.200677, Train accuracy: 0.666667, val accuracy: 0.066667\n",
      "Loss: 1.479099, Train accuracy: 0.666667, val accuracy: 0.066667\n",
      "Loss: 1.347392, Train accuracy: 0.666667, val accuracy: 0.066667\n",
      "Loss: 1.393264, Train accuracy: 0.733333, val accuracy: 0.066667\n",
      "Loss: 2.225408, Train accuracy: 0.733333, val accuracy: 0.133333\n",
      "Loss: 1.348938, Train accuracy: 0.733333, val accuracy: 0.133333\n",
      "Loss: 1.251366, Train accuracy: 0.733333, val accuracy: 0.066667\n",
      "Loss: 1.876464, Train accuracy: 0.733333, val accuracy: 0.066667\n",
      "Loss: 1.687226, Train accuracy: 0.733333, val accuracy: 0.066667\n",
      "Loss: 1.110246, Train accuracy: 0.733333, val accuracy: 0.066667\n",
      "Loss: 1.512002, Train accuracy: 0.733333, val accuracy: 0.066667\n",
      "Loss: 1.287748, Train accuracy: 0.733333, val accuracy: 0.066667\n",
      "Loss: 1.749367, Train accuracy: 0.733333, val accuracy: 0.066667\n",
      "Loss: 1.564039, Train accuracy: 0.733333, val accuracy: 0.066667\n",
      "Loss: 1.242517, Train accuracy: 0.733333, val accuracy: 0.066667\n",
      "Loss: 1.310232, Train accuracy: 0.733333, val accuracy: 0.066667\n",
      "Loss: 1.718270, Train accuracy: 0.733333, val accuracy: 0.066667\n",
      "Loss: 1.428902, Train accuracy: 0.733333, val accuracy: 0.066667\n",
      "Loss: 1.602742, Train accuracy: 0.733333, val accuracy: 0.066667\n",
      "Loss: 0.961157, Train accuracy: 0.733333, val accuracy: 0.066667\n",
      "Loss: 1.691156, Train accuracy: 0.733333, val accuracy: 0.066667\n",
      "Loss: 1.598626, Train accuracy: 0.733333, val accuracy: 0.066667\n",
      "Loss: 1.120097, Train accuracy: 0.733333, val accuracy: 0.066667\n",
      "Loss: 1.982321, Train accuracy: 0.733333, val accuracy: 0.066667\n",
      "Loss: 1.351141, Train accuracy: 0.733333, val accuracy: 0.066667\n",
      "Loss: 1.562717, Train accuracy: 0.733333, val accuracy: 0.066667\n",
      "Loss: 1.638880, Train accuracy: 0.733333, val accuracy: 0.066667\n",
      "Loss: 1.002572, Train accuracy: 0.733333, val accuracy: 0.066667\n",
      "Loss: 1.039150, Train accuracy: 0.733333, val accuracy: 0.066667\n",
      "Loss: 1.378299, Train accuracy: 0.800000, val accuracy: 0.066667\n",
      "Loss: 1.621204, Train accuracy: 0.866667, val accuracy: 0.066667\n",
      "Loss: 0.831610, Train accuracy: 0.800000, val accuracy: 0.066667\n",
      "Loss: 1.530712, Train accuracy: 0.800000, val accuracy: 0.066667\n",
      "Loss: 1.415285, Train accuracy: 0.800000, val accuracy: 0.066667\n",
      "Loss: 1.655128, Train accuracy: 0.866667, val accuracy: 0.066667\n",
      "Loss: 1.503471, Train accuracy: 0.866667, val accuracy: 0.066667\n",
      "Loss: 1.634062, Train accuracy: 0.866667, val accuracy: 0.066667\n",
      "Loss: 1.919012, Train accuracy: 0.800000, val accuracy: 0.066667\n",
      "Loss: 1.550370, Train accuracy: 0.800000, val accuracy: 0.066667\n",
      "Loss: 1.231508, Train accuracy: 0.866667, val accuracy: 0.066667\n",
      "Loss: 0.962242, Train accuracy: 0.866667, val accuracy: 0.066667\n",
      "Loss: 1.132804, Train accuracy: 0.866667, val accuracy: 0.066667\n",
      "Loss: 1.951681, Train accuracy: 0.866667, val accuracy: 0.066667\n",
      "Loss: 1.064809, Train accuracy: 0.933333, val accuracy: 0.066667\n",
      "Loss: 1.069052, Train accuracy: 0.933333, val accuracy: 0.066667\n",
      "Loss: 1.574992, Train accuracy: 0.933333, val accuracy: 0.066667\n",
      "Loss: 1.339015, Train accuracy: 0.933333, val accuracy: 0.066667\n",
      "Loss: 1.945767, Train accuracy: 0.933333, val accuracy: 0.066667\n",
      "Loss: 1.639656, Train accuracy: 0.933333, val accuracy: 0.066667\n",
      "Loss: 1.560071, Train accuracy: 0.933333, val accuracy: 0.066667\n",
      "Loss: 1.493300, Train accuracy: 0.933333, val accuracy: 0.066667\n",
      "Loss: 1.277723, Train accuracy: 0.933333, val accuracy: 0.066667\n",
      "Loss: 1.335232, Train accuracy: 0.933333, val accuracy: 0.066667\n",
      "Loss: 1.518154, Train accuracy: 0.933333, val accuracy: 0.066667\n",
      "Loss: 1.271794, Train accuracy: 0.933333, val accuracy: 0.066667\n",
      "Loss: 1.250644, Train accuracy: 0.933333, val accuracy: 0.066667\n",
      "Loss: 1.204664, Train accuracy: 0.933333, val accuracy: 0.066667\n",
      "Loss: 1.027685, Train accuracy: 0.933333, val accuracy: 0.066667\n",
      "Loss: 1.379716, Train accuracy: 0.933333, val accuracy: 0.066667\n",
      "Loss: 1.719478, Train accuracy: 0.933333, val accuracy: 0.066667\n",
      "Loss: 1.472497, Train accuracy: 1.000000, val accuracy: 0.066667\n",
      "Loss: 1.275592, Train accuracy: 0.933333, val accuracy: 0.066667\n",
      "Loss: 1.450136, Train accuracy: 1.000000, val accuracy: 0.066667\n",
      "Loss: 1.291603, Train accuracy: 1.000000, val accuracy: 0.066667\n",
      "Loss: 1.431625, Train accuracy: 1.000000, val accuracy: 0.066667\n",
      "Loss: 1.602988, Train accuracy: 1.000000, val accuracy: 0.066667\n",
      "Loss: 1.238818, Train accuracy: 0.933333, val accuracy: 0.000000\n",
      "Loss: 1.260839, Train accuracy: 1.000000, val accuracy: 0.000000\n",
      "Loss: 1.268701, Train accuracy: 1.000000, val accuracy: 0.000000\n",
      "Loss: 1.091901, Train accuracy: 1.000000, val accuracy: 0.000000\n",
      "Loss: 1.259483, Train accuracy: 1.000000, val accuracy: 0.000000\n",
      "Loss: 1.158778, Train accuracy: 1.000000, val accuracy: 0.000000\n",
      "Loss: 1.405954, Train accuracy: 1.000000, val accuracy: 0.000000\n",
      "Loss: 1.078325, Train accuracy: 1.000000, val accuracy: 0.000000\n",
      "Loss: 1.076508, Train accuracy: 1.000000, val accuracy: 0.000000\n",
      "Loss: 1.361429, Train accuracy: 1.000000, val accuracy: 0.000000\n",
      "Loss: 1.184653, Train accuracy: 1.000000, val accuracy: 0.000000\n",
      "Loss: 1.264332, Train accuracy: 1.000000, val accuracy: 0.000000\n",
      "Loss: 1.271199, Train accuracy: 1.000000, val accuracy: 0.000000\n",
      "Loss: 1.218178, Train accuracy: 1.000000, val accuracy: 0.000000\n",
      "Loss: 1.202480, Train accuracy: 1.000000, val accuracy: 0.000000\n",
      "Loss: 1.336487, Train accuracy: 1.000000, val accuracy: 0.000000\n",
      "Loss: 1.392691, Train accuracy: 1.000000, val accuracy: 0.000000\n",
      "Loss: 1.552455, Train accuracy: 1.000000, val accuracy: 0.000000\n",
      "Loss: 1.328045, Train accuracy: 1.000000, val accuracy: 0.000000\n",
      "Loss: 1.461568, Train accuracy: 1.000000, val accuracy: 0.000000\n",
      "Loss: 1.400400, Train accuracy: 1.000000, val accuracy: 0.000000\n",
      "Loss: 1.647850, Train accuracy: 1.000000, val accuracy: 0.000000\n",
      "Loss: 1.283203, Train accuracy: 1.000000, val accuracy: 0.000000\n",
      "Loss: 1.327771, Train accuracy: 1.000000, val accuracy: 0.000000\n"
     ]
    },
    {
     "name": "stdout",
     "output_type": "stream",
     "text": [
      "Loss: 1.110494, Train accuracy: 1.000000, val accuracy: 0.000000\n",
      "Loss: 1.184225, Train accuracy: 1.000000, val accuracy: 0.000000\n",
      "Loss: 1.136277, Train accuracy: 1.000000, val accuracy: 0.000000\n",
      "Loss: 1.092957, Train accuracy: 1.000000, val accuracy: 0.000000\n",
      "Loss: 1.296901, Train accuracy: 1.000000, val accuracy: 0.000000\n",
      "Loss: 1.300291, Train accuracy: 1.000000, val accuracy: 0.000000\n",
      "Loss: 1.550362, Train accuracy: 1.000000, val accuracy: 0.000000\n",
      "Loss: 1.048389, Train accuracy: 1.000000, val accuracy: 0.000000\n",
      "Loss: 1.219609, Train accuracy: 1.000000, val accuracy: 0.000000\n",
      "Loss: 1.298362, Train accuracy: 1.000000, val accuracy: 0.000000\n",
      "Loss: 1.457504, Train accuracy: 1.000000, val accuracy: 0.000000\n",
      "Loss: 1.416135, Train accuracy: 1.000000, val accuracy: 0.000000\n",
      "Loss: 1.314167, Train accuracy: 1.000000, val accuracy: 0.000000\n",
      "Loss: 1.229942, Train accuracy: 1.000000, val accuracy: 0.000000\n",
      "Loss: 1.263961, Train accuracy: 1.000000, val accuracy: 0.000000\n",
      "Loss: 1.345398, Train accuracy: 1.000000, val accuracy: 0.000000\n"
     ]
    }
   ],
   "source": [
    "data_size = 15\n",
    "model = TwoLayerNet(n_input = train_X.shape[1], n_output = 10, hidden_layer_size = 100, reg = 1e-1)\n",
    "dataset = Dataset(train_X[:data_size], train_y[:data_size], val_X[:data_size], val_y[:data_size])\n",
    "trainer = Trainer(model, dataset, SGD(), learning_rate=1e-1, num_epochs=150, batch_size=5)\n",
    "\n",
    "# You should expect this to reach 1.0 training accuracy \n",
    "loss_history, train_history, val_history = trainer.fit()"
   ]
  },
  {
   "cell_type": "markdown",
   "metadata": {},
   "source": [
    "Теперь найдем гипепараметры, для которых этот процесс сходится быстрее.\n",
    "Если все реализовано корректно, то существуют параметры, при которых процесс сходится в **20** эпох или еще быстрее.\n",
    "Найдите их!"
   ]
  },
  {
   "cell_type": "code",
   "execution_count": 101,
   "metadata": {
    "scrolled": true
   },
   "outputs": [
    {
     "name": "stdout",
     "output_type": "stream",
     "text": [
      "Loss: 2.302540, Train accuracy: 0.200000, val accuracy: 0.133333\n",
      "Loss: 2.276467, Train accuracy: 0.200000, val accuracy: 0.133333\n",
      "Loss: 2.252431, Train accuracy: 0.200000, val accuracy: 0.133333\n",
      "Loss: 2.223530, Train accuracy: 0.266667, val accuracy: 0.000000\n",
      "Loss: 2.158410, Train accuracy: 0.400000, val accuracy: 0.000000\n",
      "Loss: 1.966768, Train accuracy: 0.400000, val accuracy: 0.000000\n",
      "Loss: 1.736370, Train accuracy: 0.333333, val accuracy: 0.066667\n",
      "Loss: 1.707962, Train accuracy: 0.333333, val accuracy: 0.133333\n",
      "Loss: 1.893680, Train accuracy: 0.333333, val accuracy: 0.066667\n",
      "Loss: 1.890697, Train accuracy: 0.266667, val accuracy: 0.133333\n",
      "Loss: 1.763260, Train accuracy: 0.533333, val accuracy: 0.000000\n",
      "Loss: 1.514821, Train accuracy: 0.400000, val accuracy: 0.066667\n",
      "Loss: 1.338038, Train accuracy: 0.600000, val accuracy: 0.000000\n",
      "Loss: 1.231992, Train accuracy: 0.400000, val accuracy: 0.133333\n",
      "Loss: 1.325676, Train accuracy: 0.600000, val accuracy: 0.000000\n",
      "Loss: 1.234008, Train accuracy: 0.600000, val accuracy: 0.066667\n",
      "Loss: 0.929636, Train accuracy: 0.733333, val accuracy: 0.000000\n",
      "Loss: 0.785736, Train accuracy: 0.733333, val accuracy: 0.066667\n",
      "Loss: 0.658262, Train accuracy: 0.866667, val accuracy: 0.000000\n",
      "Loss: 0.516624, Train accuracy: 1.000000, val accuracy: 0.066667\n"
     ]
    }
   ],
   "source": [
    "# Now, tweak some hyper parameters and make it train to 1.0 accuracy in 20 epochs or less\n",
    "\n",
    "model = TwoLayerNet(n_input = train_X.shape[1], n_output = 10, hidden_layer_size = 100, reg = 1e-5)\n",
    "dataset = Dataset(train_X[:data_size], train_y[:data_size], val_X[:data_size], val_y[:data_size])\n",
    "# TODO: Change any hyperparamers or optimizators to reach training accuracy in 20 epochs\n",
    "trainer = Trainer(model, dataset, SGD(), learning_rate=0.70, num_epochs=20, batch_size=200)\n",
    "\n",
    "loss_history, train_history, val_history = trainer.fit()"
   ]
  },
  {
   "cell_type": "markdown",
   "metadata": {},
   "source": [
    "# Итак, основное мероприятие!\n",
    "\n",
    "Натренируйте лучшую нейросеть! Можно добавлять и изменять параметры, менять количество нейронов в слоях сети и как угодно экспериментировать. \n",
    "\n",
    "Добейтесь точности лучше **60%** на validation set."
   ]
  },
  {
   "cell_type": "code",
   "execution_count": 102,
   "metadata": {},
   "outputs": [],
   "source": [
    "def cartesian_product(arrays):\n",
    "    la = len(arrays)\n",
    "    arr = np.empty([len(a) for a in arrays] + [la], dtype=np.float)\n",
    "    for i, a in enumerate(np.ix_(*arrays)):\n",
    "        arr[...,i] = a\n",
    "    return arr.reshape(-1, 5)"
   ]
  },
  {
   "cell_type": "code",
   "execution_count": 107,
   "metadata": {
    "scrolled": false
   },
   "outputs": [
    {
     "name": "stdout",
     "output_type": "stream",
     "text": [
      "Loss: 2.274328, Train accuracy: 0.196667, val accuracy: 0.206000\n",
      "Loss: 2.096012, Train accuracy: 0.265222, val accuracy: 0.260000\n",
      "Loss: 1.829498, Train accuracy: 0.395778, val accuracy: 0.400000\n",
      "Loss: 1.461164, Train accuracy: 0.532222, val accuracy: 0.523000\n",
      "Loss: 1.270351, Train accuracy: 0.600222, val accuracy: 0.589000\n",
      "Loss: 1.253960, Train accuracy: 0.654889, val accuracy: 0.633000\n",
      "Loss: 1.069046, Train accuracy: 0.680000, val accuracy: 0.672000\n",
      "Loss: 0.934197, Train accuracy: 0.703556, val accuracy: 0.678000\n",
      "Loss: 1.016137, Train accuracy: 0.706333, val accuracy: 0.672000\n",
      "Loss: 0.907877, Train accuracy: 0.737222, val accuracy: 0.689000\n",
      "Loss: 0.818754, Train accuracy: 0.757556, val accuracy: 0.705000\n",
      "Loss: 0.904915, Train accuracy: 0.764444, val accuracy: 0.716000\n",
      "Loss: 0.778893, Train accuracy: 0.767778, val accuracy: 0.716000\n",
      "Loss: 0.818801, Train accuracy: 0.784667, val accuracy: 0.715000\n",
      "Loss: 0.801091, Train accuracy: 0.788444, val accuracy: 0.732000\n",
      "Loss: 0.661145, Train accuracy: 0.794667, val accuracy: 0.714000\n",
      "Loss: 0.654179, Train accuracy: 0.806556, val accuracy: 0.736000\n",
      "Loss: 0.554508, Train accuracy: 0.815000, val accuracy: 0.729000\n",
      "Loss: 0.519335, Train accuracy: 0.817444, val accuracy: 0.736000\n",
      "Loss: 0.562529, Train accuracy: 0.819222, val accuracy: 0.735000\n",
      "best validation accuracy achieved: 0.736000\n",
      "[0.1, 1e-07, 0.9, 100.0, 0.3]\n"
     ]
    }
   ],
   "source": [
    "# Let's train the best one-hidden-layer network we can\n",
    "\n",
    "learning_rates = 1e-4\n",
    "reg_strength = 1e-3\n",
    "learning_rate_decay = 0.999\n",
    "hidden_layer_size = 128\n",
    "num_epochs = 200\n",
    "batch_size = 128\n",
    "\n",
    "best_classifier = None\n",
    "best_val_accuracy = 0\n",
    "\n",
    "loss_history = []\n",
    "train_history = []\n",
    "val_history = []\n",
    "\n",
    "params = []\n",
    "\n",
    "#learning_rates = [1e-3, 1e-1]\n",
    "#reg_strengths = [1e-5, 1e-7, 1e-2]\n",
    "#learning_rate_decays = [0.8]\n",
    "#hidden_layer_sizes = [100]\n",
    "#momentums = [0.3, 0.1]\n",
    "#best = [1e-1, 1e-7, 0.8, 100, 0.3]\n",
    "\n",
    "#learning_rates = [1e-1]\n",
    "#reg_strengths =  [1e-7, 1e-8]\n",
    "#learning_rate_decays = [0.8, 0.9]\n",
    "#hidden_layer_sizes = [100]\n",
    "#momentums = [0.3, 0.5]\n",
    "# best [0.1, 1e-07, 0.9, 100.0, 0.5]\n",
    "learning_rates = [1e-1]\n",
    "reg_strengths = [1e-7]\n",
    "learning_rate_decays = [0.9]\n",
    "hidden_layer_sizes = [100]\n",
    "momentums = [0.3]\n",
    "HP = (learning_rates, reg_strengths,learning_rate_decays, hidden_layer_sizes, momentums)\n",
    "hyper_parametrs = cartesian_product(HP)\n",
    "#print(hyper_parametrs)\n",
    "for hyper_parametr in hyper_parametrs:\n",
    "    lr = hyper_parametr[0]\n",
    "    reg = hyper_parametr[1]\n",
    "    lr_dec = hyper_parametr[2]\n",
    "    hid_l_size = hyper_parametr[3]\n",
    "    momentum = hyper_parametr[4]\n",
    "    \n",
    "    dataset = Dataset(train_X, train_y, val_X, val_y)\n",
    "    model = TwoLayerNet(n_input = train_X.shape[1], n_output = 10, hidden_layer_size = np.int(hid_l_size), reg = reg)\n",
    "    trainer = Trainer(model, dataset, MomentumSGD(momentum=momentum), learning_rate=lr, num_epochs=20, batch_size=200, learning_rate_decay = lr_dec)\n",
    "    loss_history1, train_history1, val_history1 = trainer.fit()\n",
    "    max_val = np.max(val_history1)\n",
    "    if max_val > best_val_accuracy:\n",
    "        best_val_accuracy = max_val\n",
    "        loss_history = loss_history1\n",
    "        train_history = train_history1\n",
    "        val_history = val_history1\n",
    "        best_classifier = model\n",
    "        params = [lr, reg, lr_dec, hid_l_size, momentum]\n",
    "# TODO find the best hyperparameters to train the network\n",
    "# Don't hesitate to add new values to the arrays above, perform experiments, use any tricks you want\n",
    "# You should expect to get to at least 40% of valudation accuracy\n",
    "# Save loss/train/history of the best classifier to the variables above\n",
    "\n",
    "print('best validation accuracy achieved: %f' % best_val_accuracy)\n",
    "print(params)"
   ]
  },
  {
   "cell_type": "code",
   "execution_count": 108,
   "metadata": {
    "scrolled": true
   },
   "outputs": [
    {
     "name": "stdout",
     "output_type": "stream",
     "text": [
      "[0.1, 1e-07, 0.9, 100.0, 0.3]\n"
     ]
    }
   ],
   "source": [
    "print(params)"
   ]
  },
  {
   "cell_type": "code",
   "execution_count": 109,
   "metadata": {},
   "outputs": [
    {
     "data": {
      "text/plain": [
       "[<matplotlib.lines.Line2D at 0x11a1e4290>]"
      ]
     },
     "execution_count": 109,
     "metadata": {},
     "output_type": "execute_result"
    },
    {
     "data": {
      "image/png": "[encoded data removed]",
      "text/plain": [
       "<Figure size 1080x504 with 2 Axes>"
      ]
     },
     "metadata": {
      "needs_background": "light"
     },
     "output_type": "display_data"
    }
   ],
   "source": [
    "plt.figure(figsize=(15, 7))\n",
    "plt.subplot(211)\n",
    "plt.title(\"Loss\")\n",
    "plt.plot(loss_history)\n",
    "plt.subplot(212)\n",
    "plt.title(\"Train/validation accuracy\")\n",
    "plt.plot(train_history)\n",
    "plt.plot(val_history)"
   ]
  },
  {
   "cell_type": "markdown",
   "metadata": {},
   "source": [
    "# Как обычно, посмотрим, как наша лучшая модель работает на тестовых данных"
   ]
  },
  {
   "cell_type": "code",
   "execution_count": 110,
   "metadata": {},
   "outputs": [
    {
     "name": "stdout",
     "output_type": "stream",
     "text": [
      "Neural net test set accuracy: 0.701000\n"
     ]
    }
   ],
   "source": [
    "test_pred = best_classifier.predict(test_X)\n",
    "test_accuracy = multiclass_accuracy(test_pred, test_y)\n",
    "print('Neural net test set accuracy: %f' % (test_accuracy, ))"
   ]
  },
  {
   "cell_type": "code",
   "execution_count": null,
   "metadata": {},
   "outputs": [],
   "source": [
    "\n",
    "model = TwoLayerNet(n_input = train_X.shape[1], n_output = 10, hidden_layer_size = np.int(hid_l_size), reg = reg)"
   ]
  }
 ],
 "metadata": {
  "kernelspec": {
   "display_name": "Python 3",
   "language": "python",
   "name": "python3"
  },
  "language_info": {
   "codemirror_mode": {
    "name": "ipython",
    "version": 3
   },
   "file_extension": ".py",
   "mimetype": "text/x-python",
   "name": "python",
   "nbconvert_exporter": "python",
   "pygments_lexer": "ipython3",
   "version": "3.7.6"
  }
 },
 "nbformat": 4,
 "nbformat_minor": 2
}
